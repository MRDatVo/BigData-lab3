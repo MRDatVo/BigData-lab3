{
 "cells": [
  {
   "cell_type": "code",
   "execution_count": 1,
   "metadata": {},
   "outputs": [],
   "source": [
    "import findspark\n",
    "findspark.init()"
   ]
  },
  {
   "cell_type": "code",
   "execution_count": 2,
   "metadata": {},
   "outputs": [
    {
     "name": "stdout",
     "output_type": "stream",
     "text": [
      "Welcome to\n",
      "      ____              __\n",
      "     / __/__  ___ _____/ /__\n",
      "    _\\ \\/ _ \\/ _ `/ __/  '_/\n",
      "   /__ / .__/\\_,_/_/ /_/\\_\\   version 2.2.1\n",
      "      /_/\n",
      "\n",
      "Using Python version 3.6.5 (default, Mar 29 2018 13:32:41)\n",
      "SparkSession available as 'spark'.\n"
     ]
    }
   ],
   "source": [
    "from pyspark.ml import Pipeline\n",
    "from pyspark.ml.classification import RandomForestClassifier\n",
    "from pyspark.ml.feature import IndexToString, StringIndexer, VectorIndexer, VectorAssembler\n",
    "from pyspark.ml.evaluation import MulticlassClassificationEvaluator\n",
    "from pyspark.python.pyspark.shell import spark"
   ]
  },
  {
   "cell_type": "code",
   "execution_count": 3,
   "metadata": {},
   "outputs": [],
   "source": [
    "from sklearn.metrics import confusion_matrix\n",
    "from sklearn.metrics import precision_score\n",
    "from sklearn.metrics import recall_score"
   ]
  },
  {
   "cell_type": "code",
   "execution_count": 4,
   "metadata": {},
   "outputs": [
    {
     "name": "stdout",
     "output_type": "stream",
     "text": [
      "+--------------+-----+------------+\n",
      "|predictedLabel|label|    features|\n",
      "+--------------+-----+------------+\n",
      "|         235.0|235.0|[235.0,11.0]|\n",
      "|         235.0|235.0|[235.0,11.0]|\n",
      "|         235.0|235.0|[235.0,11.0]|\n",
      "|         235.0|235.0|[235.0,11.0]|\n",
      "|         235.0|235.0|[235.0,11.0]|\n",
      "+--------------+-----+------------+\n",
      "only showing top 5 rows\n",
      "\n",
      "RandomForestClassificationModel (uid=RandomForestClassifier_43099c5d80908d1755d9) with 10 trees\n",
      "Random Forest - Test Accuracy = 0.830275\n",
      "Random Forest - Test Error = 0.169725\n",
      "The Confusion Matrix for Random Forest Model is :\n",
      "[[0 0 0 ... 0 0 0]\n",
      " [0 0 0 ... 0 0 0]\n",
      " [0 0 0 ... 0 0 0]\n",
      " ...\n",
      " [2 0 0 ... 0 0 0]\n",
      " [0 0 0 ... 0 0 0]\n",
      " [5 0 0 ... 0 0 0]]\n",
      "The precision score for Random Forest Model is: 0.02972972972972973\n",
      "The recall score for Random Forest Model is: 0.02972972972972973\n"
     ]
    }
   ],
   "source": [
    "# Load and parse the data file, converting it to a DataFrame.\n",
    "data = spark.read.load(\"Absenteeism_at_work.csv\", format=\"csv\", header=True, delimiter=\",\")\n",
    "\n",
    "data = data.withColumn(\"MOA\", data[\"Month of absence\"] - 0).withColumn(\"label\", data['Transportation expense'] - 0). \\\n",
    "    withColumn(\"ROA\", data[\"Reason for absence\"] - 0). \\\n",
    "    withColumn(\"distance\", data[\"Distance from Residence to Work\"] - 0). \\\n",
    "    withColumn(\"BMI\", data[\"Body mass index\"] - 0)\n",
    "\n",
    "# Index labels, adding metadata to the label column.\n",
    "# Fit on whole dataset to include all labels in index.\n",
    "\n",
    "assem = VectorAssembler(inputCols=[\"label\", \"distance\"], outputCol='features')\n",
    "\n",
    "data = assem.transform(data)\n",
    "\n",
    "labelIndexer = StringIndexer(inputCol=\"label\", outputCol=\"indexedLabel\").fit(data)\n",
    "\n",
    "# Automatically identify categorical features, and index them.\n",
    "# Set maxCategories so features with > 4 distinct values are treated as continuous.\n",
    "featureIndexer =\\\n",
    "    VectorIndexer(inputCol=\"features\", outputCol=\"indexedFeatures\", maxCategories=4).fit(data)\n",
    "\n",
    "# Split the data into training and test sets (30% held out for testing)\n",
    "(trainingData, testData) = data.randomSplit([0.7, 0.3])\n",
    "\n",
    "# Train a RandomForest model.\n",
    "rf = RandomForestClassifier(labelCol=\"indexedLabel\", featuresCol=\"indexedFeatures\", numTrees=10)\n",
    "\n",
    "# Convert indexed labels back to original labels.\n",
    "labelConverter = IndexToString(inputCol=\"prediction\", outputCol=\"predictedLabel\",\n",
    "                               labels=labelIndexer.labels)\n",
    "\n",
    "y_true = data.select(\"BMI\").rdd.flatMap(lambda x: x).collect()\n",
    "y_pred = data.select(\"ROA\").rdd.flatMap(lambda x: x).collect()\n",
    "\n",
    "# Chain indexers and forest in a Pipeline\n",
    "pipeline = Pipeline(stages=[labelIndexer, featureIndexer, rf, labelConverter])\n",
    "\n",
    "# Train model.  This also runs the indexers.\n",
    "model = pipeline.fit(trainingData)\n",
    "\n",
    "# Make predictions.\n",
    "predictions = model.transform(testData)\n",
    "\n",
    "# Select example rows to display.\n",
    "predictions.select(\"predictedLabel\", \"label\", \"features\").show(5)\n",
    "\n",
    "# Select (prediction, true label) and compute test error\n",
    "evaluator = MulticlassClassificationEvaluator(\n",
    "    labelCol=\"indexedLabel\", predictionCol=\"prediction\", metricName=\"accuracy\")\n",
    "\n",
    "accuracy = evaluator.evaluate(predictions)\n",
    "\n",
    "confusionmatrix = confusion_matrix(y_true, y_pred)\n",
    "\n",
    "precision = precision_score(y_true, y_pred, average='micro')\n",
    "\n",
    "recall = recall_score(y_true, y_pred, average='micro')\n",
    "\n",
    "rfModel = model.stages[2]\n",
    "print(rfModel)  # summary only\n",
    "print(\"Random Forest - Test Accuracy = %g\" % (accuracy))\n",
    "print(\"Random Forest - Test Error = %g\" % (1.0 - accuracy))\n",
    "\n",
    "print(\"The Confusion Matrix for Random Forest Model is :\\n\" + str(confusionmatrix))\n",
    "\n",
    "print(\"The precision score for Random Forest Model is: \" + str(precision))\n",
    "\n",
    "print(\"The recall score for Random Forest Model is: \" + str(recall))"
   ]
  }
 ],
 "metadata": {
  "kernelspec": {
   "display_name": "Python 3",
   "language": "python",
   "name": "python3"
  },
  "language_info": {
   "codemirror_mode": {
    "name": "ipython",
    "version": 3
   },
   "file_extension": ".py",
   "mimetype": "text/x-python",
   "name": "python",
   "nbconvert_exporter": "python",
   "pygments_lexer": "ipython3",
   "version": "3.6.5"
  }
 },
 "nbformat": 4,
 "nbformat_minor": 2
}

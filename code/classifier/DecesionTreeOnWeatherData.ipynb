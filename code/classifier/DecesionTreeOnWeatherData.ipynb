{
 "cells": [
  {
   "cell_type": "code",
   "execution_count": 1,
   "metadata": {},
   "outputs": [],
   "source": [
    "import findspark\n",
    "findspark.init()"
   ]
  },
  {
   "cell_type": "code",
   "execution_count": 2,
   "metadata": {},
   "outputs": [
    {
     "name": "stdout",
     "output_type": "stream",
     "text": [
      "Welcome to\n",
      "      ____              __\n",
      "     / __/__  ___ _____/ /__\n",
      "    _\\ \\/ _ \\/ _ `/ __/  '_/\n",
      "   /__ / .__/\\_,_/_/ /_/\\_\\   version 2.2.1\n",
      "      /_/\n",
      "\n",
      "Using Python version 3.6.5 (default, Mar 29 2018 13:32:41)\n",
      "SparkSession available as 'spark'.\n"
     ]
    }
   ],
   "source": [
    "from pyspark.ml import Pipeline\n",
    "from pyspark.ml.classification import DecisionTreeClassifier\n",
    "from pyspark.ml.feature import StringIndexer, VectorIndexer, VectorAssembler\n",
    "from pyspark.ml.evaluation import MulticlassClassificationEvaluator\n",
    "from pyspark.python.pyspark.shell import spark"
   ]
  },
  {
   "cell_type": "code",
   "execution_count": 4,
   "metadata": {},
   "outputs": [],
   "source": [
    "#read weather data\n",
    "data = spark.read.load('weatherdata.csv', format = 'csv', header = True, delimiter = ',')\n",
    "#convert some columns's type string to numeric\n",
    "data = data.withColumn('dewPoint', data['dewPoint'] - 0).withColumn('humidity', data['humidity'] - 0).\\\n",
    "withColumn('windSpeed', data['windSpeed'] - 0).withColumn('cloudCover', data['cloudCover'] - 0).\\\n",
    "withColumn('temperatureMin', data['temperatureMin'] - 0).withColumn('temperatureMax', data['temperatureMax'] - 0).\\\n",
    "withColumn('uvIndex', data['uvIndex'] - 0)\n",
    "#data.show(5)"
   ]
  },
  {
   "cell_type": "code",
   "execution_count": 5,
   "metadata": {},
   "outputs": [],
   "source": [
    "#get some column to vector\n",
    "assembler = VectorAssembler(inputCols = ['dewPoint', 'humidity', 'windSpeed', 'cloudCover', \\\n",
    "                                         'temperatureMin', 'temperatureMax', 'uvIndex'], outputCol = 'features')\n",
    "data = assembler.transform(data)\n",
    "\n",
    "labelIndexer = StringIndexer(inputCol = 'precipType', outputCol = 'indexedLabel').fit(data)\n",
    "featureIndexer = VectorIndexer(inputCol = 'features', outputCol = 'indexedFeatures', maxCategories = 4).fit(data)"
   ]
  },
  {
   "cell_type": "code",
   "execution_count": 6,
   "metadata": {},
   "outputs": [
    {
     "name": "stdout",
     "output_type": "stream",
     "text": [
      "+----------+------------+--------------------+\n",
      "|prediction|indexedLabel|            features|\n",
      "+----------+------------+--------------------+\n",
      "|       0.0|         0.0|[18.85,0.69,4.63,...|\n",
      "|       0.0|         0.0|[20.47,0.71,2.83,...|\n",
      "|       0.0|         0.0|[20.27,0.71,2.64,...|\n",
      "|       0.0|         0.0|[20.46,0.7,5.39,0...|\n",
      "|       0.0|         0.0|[20.65,0.71,5.52,...|\n",
      "+----------+------------+--------------------+\n",
      "only showing top 5 rows\n",
      "\n",
      "DecisionTreeClassificationModel (uid=DecisionTreeClassifier_427a94bd6066ecf2f5c9) of depth 5 with 61 nodes\n",
      "Decision Tree - Test Accuracy = 0.7447\n",
      "Decision Tree - Test Error = 0.2553\n"
     ]
    }
   ],
   "source": [
    "(trainingData, testData) = data.randomSplit([0.7, 0.3])\n",
    "\n",
    "dt = DecisionTreeClassifier(labelCol=\"indexedLabel\", featuresCol=\"indexedFeatures\")\n",
    "\n",
    "# Chain indexers and tree in a Pipeline\n",
    "pipeline = Pipeline(stages=[labelIndexer, featureIndexer, dt])\n",
    "\n",
    "# Train model.  This also runs the indexers.\n",
    "model = pipeline.fit(trainingData)\n",
    "\n",
    "# Make predictions.\n",
    "predictions = model.transform(testData)\n",
    "\n",
    "# Select example rows to display.\n",
    "predictions.select(\"prediction\", \"indexedLabel\", \"features\").show(5)\n",
    "\n",
    "# Select (prediction, true label) and compute test error\n",
    "evaluator = MulticlassClassificationEvaluator(\n",
    "    labelCol=\"indexedLabel\", predictionCol=\"prediction\", metricName=\"accuracy\")\n",
    "\n",
    "accuracy = evaluator.evaluate(predictions)\n",
    "\n",
    "treeModel = model.stages[2]\n",
    "\n",
    "# summary only\n",
    "print(treeModel)\n",
    "print(\"Decision Tree - Test Accuracy = %g\" % (accuracy))\n",
    "print(\"Decision Tree - Test Error = %g\" % (1.0 - accuracy))"
   ]
  }
 ],
 "metadata": {
  "kernelspec": {
   "display_name": "Python 3",
   "language": "python",
   "name": "python3"
  },
  "language_info": {
   "codemirror_mode": {
    "name": "ipython",
    "version": 3
   },
   "file_extension": ".py",
   "mimetype": "text/x-python",
   "name": "python",
   "nbconvert_exporter": "python",
   "pygments_lexer": "ipython3",
   "version": "3.6.5"
  }
 },
 "nbformat": 4,
 "nbformat_minor": 2
}

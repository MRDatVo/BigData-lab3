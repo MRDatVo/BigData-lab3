{
 "cells": [
  {
   "cell_type": "code",
   "execution_count": 1,
   "metadata": {},
   "outputs": [],
   "source": [
    "import findspark\n",
    "findspark.init()"
   ]
  },
  {
   "cell_type": "code",
   "execution_count": 2,
   "metadata": {},
   "outputs": [],
   "source": [
    "from pyspark.ml.feature import VectorAssembler\n",
    "from pyspark.ml.classification import NaiveBayes\n",
    "from pyspark.ml.evaluation import MulticlassClassificationEvaluator\n",
    "from pyspark.ml.linalg import SparseVector\n",
    "from pyspark.sql import SparkSession"
   ]
  },
  {
   "cell_type": "code",
   "execution_count": 3,
   "metadata": {},
   "outputs": [],
   "source": [
    "from sklearn.metrics import confusion_matrix\n",
    "from sklearn.metrics import precision_score\n",
    "from sklearn.metrics import recall_score"
   ]
  },
  {
   "cell_type": "code",
   "execution_count": 4,
   "metadata": {},
   "outputs": [],
   "source": [
    "#read weather data\n",
    "spark = SparkSession.builder.getOrCreate()\n",
    "data = spark.read.load('weatherdata.csv', format = 'csv', header = True, delimiter = ',')\n",
    "#convert some columns's type string to numeric\n",
    "data = data.withColumn('dewPoint', data['dewPoint'] - 0).withColumn('humidity', data['humidity'] - 0).\\\n",
    "withColumn('windSpeed', data['windSpeed'] - 0).withColumn('cloudCover', data['cloudCover'] - 0).\\\n",
    "withColumn('temperatureMin', data['temperatureMin'] - 0).withColumn('temperatureMax', data['temperatureMax'] - 0).\\\n",
    "withColumn('uvIndex', data['uvIndex'] - 0).withColumn('label', data['precipType'] - 0)\n",
    "#data.show(5)"
   ]
  },
  {
   "cell_type": "code",
   "execution_count": 5,
   "metadata": {},
   "outputs": [],
   "source": [
    "#get some column to vector\n",
    "assembler = VectorAssembler(inputCols = ['dewPoint', 'humidity', 'windSpeed', 'cloudCover', \\\n",
    "                                         'temperatureMin', 'temperatureMax', 'uvIndex'], outputCol = 'features')\n",
    "data = assembler.transform(data)"
   ]
  },
  {
   "cell_type": "code",
   "execution_count": 6,
   "metadata": {},
   "outputs": [
    {
     "name": "stdout",
     "output_type": "stream",
     "text": [
      "+----------+-----+--------------------+\n",
      "|prediction|label|            features|\n",
      "+----------+-----+--------------------+\n",
      "|       1.0|  1.0|[19.93,0.73,2.0,0...|\n",
      "|       1.0|  1.0|[18.85,0.69,4.63,...|\n",
      "|       1.0|  1.0|[19.61,0.7,1.74,0...|\n",
      "|       1.0|  1.0|[21.85,0.78,2.33,...|\n",
      "|       1.0|  1.0|[20.47,0.71,2.83,...|\n",
      "+----------+-----+--------------------+\n",
      "only showing top 5 rows\n",
      "\n",
      "Decision Tree - Test Accuracy = 0.690909\n",
      "Decision Tree - Test Error = 0.309091\n"
     ]
    }
   ],
   "source": [
    "(trainingData, testData) = data.randomSplit([0.7, 0.3])\n",
    "\n",
    "# create the trainer and set its parameters\n",
    "nb = NaiveBayes(smoothing=1.0, modelType=\"multinomial\")\n",
    "\n",
    "# train the model\n",
    "model = nb.fit(trainingData)\n",
    "\n",
    "# select example rows to display.\n",
    "predictions = model.transform(testData)\n",
    "\n",
    "# Select example rows to display.\n",
    "predictions.select(\"prediction\", \"label\", \"features\").show(5)\n",
    "\n",
    "# compute accuracy on the test set\n",
    "evaluator = MulticlassClassificationEvaluator(labelCol=\"label\", predictionCol=\"prediction\",\n",
    "                                              metricName=\"accuracy\")\n",
    "accuracy = evaluator.evaluate(predictions)\n",
    "\n",
    "# summary only\n",
    "print(\"Decision Tree - Test Accuracy = %g\" % (accuracy))\n",
    "print(\"Decision Tree - Test Error = %g\" % (1.0 - accuracy))"
   ]
  }
 ],
 "metadata": {
  "kernelspec": {
   "display_name": "Python 3",
   "language": "python",
   "name": "python3"
  },
  "language_info": {
   "codemirror_mode": {
    "name": "ipython",
    "version": 3
   },
   "file_extension": ".py",
   "mimetype": "text/x-python",
   "name": "python",
   "nbconvert_exporter": "python",
   "pygments_lexer": "ipython3",
   "version": "3.6.5"
  }
 },
 "nbformat": 4,
 "nbformat_minor": 2
}
